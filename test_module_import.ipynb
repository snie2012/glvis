{
 "cells": [
  {
   "cell_type": "code",
   "execution_count": 1,
   "metadata": {},
   "outputs": [],
   "source": [
    "%load_ext autoreload\n",
    "%autoreload 2"
   ]
  },
  {
   "cell_type": "code",
   "execution_count": 3,
   "metadata": {},
   "outputs": [],
   "source": [
    "from test_functions import test_query_bert_mrpc"
   ]
  },
  {
   "cell_type": "code",
   "execution_count": 16,
   "metadata": {},
   "outputs": [
    {
     "name": "stdout",
     "output_type": "stream",
     "text": [
      "Stats shape. Mean: (768,), variance: (768,)\n",
      "[[-0.92164046  0.47215834 -0.26485971 ...  0.1622899   1.29696786\n",
      "   0.42527792]\n",
      " [-0.22501944 -0.07565712  0.26720297 ...  0.60422117  0.72314405\n",
      "   0.74532211]\n",
      " [-0.33956787  1.1545943  -0.92408842 ...  0.02092074  0.33575287\n",
      "   0.59728867]\n",
      " ...\n",
      " [-0.50669849  0.61777276 -0.11138748 ...  0.54485321  0.10634815\n",
      "   0.1475161 ]\n",
      " [ 0.16621572  0.47245857 -1.53472078 ...  0.47497001  0.10872378\n",
      "   0.22344702]\n",
      " [-0.40343285 -0.81052101  0.02694789 ...  1.20457268  0.11366952\n",
      "   0.06077409]]\n",
      "[[-0.47592908  0.19942783  0.20254119 ... -0.28982419 -0.1765122\n",
      "  -0.57220709]\n",
      " [-0.99036288  0.01726779 -0.77070659 ... -0.7084412  -0.05918256\n",
      "   0.26652214]\n",
      " [-0.63637733 -0.02030841 -0.8545332  ...  0.12664178 -0.18504435\n",
      "  -0.267937  ]\n",
      " ...\n",
      " [-0.30332002  0.29106471 -0.25785646 ... -0.23892584 -0.83369166\n",
      "  -0.15926994]\n",
      " [ 0.10299187  0.26138979 -0.23237044 ...  0.16244897  0.01733122\n",
      "  -0.0979476 ]\n",
      " [ 0.29176015  0.36602235  0.49715784 ...  0.41733271 -0.66129279\n",
      "   0.02306794]]\n"
     ]
    }
   ],
   "source": [
    "res = test_query_bert_mrpc()"
   ]
  },
  {
   "cell_type": "code",
   "execution_count": 14,
   "metadata": {},
   "outputs": [
    {
     "data": {
      "text/plain": [
       "{'x': 0,\n",
       " 'y': 0,\n",
       " 'w': 6,\n",
       " 'h': 22,\n",
       " 'mean': -0.032997933865496605,\n",
       " 'std': 0.28278039583320547,\n",
       " 'instances': [28,\n",
       "  2,\n",
       "  10,\n",
       "  38,\n",
       "  30,\n",
       "  48,\n",
       "  14,\n",
       "  34,\n",
       "  0,\n",
       "  5,\n",
       "  16,\n",
       "  17,\n",
       "  22,\n",
       "  43,\n",
       "  44,\n",
       "  49,\n",
       "  8,\n",
       "  24,\n",
       "  1,\n",
       "  25,\n",
       "  42,\n",
       "  47],\n",
       " 'dimensions': [206, 276, 632, 702, 9, 258]}"
      ]
     },
     "execution_count": 14,
     "metadata": {},
     "output_type": "execute_result"
    }
   ],
   "source": [
    "res['heatmap_data'][0][0]"
   ]
  }
 ],
 "metadata": {
  "kernelspec": {
   "display_name": "Python 3",
   "language": "python",
   "name": "python3"
  },
  "language_info": {
   "codemirror_mode": {
    "name": "ipython",
    "version": 3
   },
   "file_extension": ".py",
   "mimetype": "text/x-python",
   "name": "python",
   "nbconvert_exporter": "python",
   "pygments_lexer": "ipython3",
   "version": "3.6.7"
  }
 },
 "nbformat": 4,
 "nbformat_minor": 2
}
