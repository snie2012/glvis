{
 "cells": [
  {
   "cell_type": "code",
   "execution_count": 1,
   "metadata": {},
   "outputs": [],
   "source": [
    "# Question: can transformer handle a very long document?"
   ]
  },
  {
   "cell_type": "code",
   "execution_count": 2,
   "metadata": {},
   "outputs": [
    {
     "name": "stdout",
     "output_type": "stream",
     "text": [
      "Better speed can be achieved with apex installed from https://www.github.com/nvidia/apex.\n"
     ]
    }
   ],
   "source": [
    "import torch\n",
    "from pytorch_pretrained_bert import BertTokenizer, BertModel, BertForMaskedLM"
   ]
  },
  {
   "cell_type": "code",
   "execution_count": 3,
   "metadata": {},
   "outputs": [],
   "source": [
    "# OPTIONAL: if you want to have more information on what's happening, activate the logger as follows\n",
    "import logging\n",
    "logging.basicConfig(level=logging.ERROR)"
   ]
  },
  {
   "cell_type": "code",
   "execution_count": null,
   "metadata": {},
   "outputs": [],
   "source": [
    "# Load pre-trained model tokenizer (vocabulary)\n",
    "tokenizer = BertTokenizer.from_pretrained('bert-base-uncased')\n",
    "\n",
    "# Load pre-trained model (weights)\n",
    "model = BertModel.from_pretrained('bert-base-uncased')\n",
    "\n",
    "# Move model to GPU\n",
    "model.to('cuda')"
   ]
  },
  {
   "cell_type": "code",
   "execution_count": 51,
   "metadata": {},
   "outputs": [],
   "source": [
    "text = 'Under President Antonio López de Santa Anna, the Mexican government began to shift away from a federalist model to a more centralized government. His increasingly dictatorial policies, including the revocation of the Constitution of 1824 in early 1835, incited federalists throughout the nation to revolt. The Mexican Army quickly put down revolts in the Mexican interior, including a brutal suppression of militias in Oaxaca and Zacatecas. Unrest continued in the Mexican state of Coahuila y Tejas. The area that bordered the United States, known as Texas, was populated primarily by English-speaking settlers, known as Texians. In October, the Texians took up arms in what became known as the Texas Revolution. The following month, Texians declared themselves part of a state independent from Coahuila and created a provisional state government based on the principles of the Constitution of 1824. By the end of the year, all Mexican troops had been expelled from Texas. Leading federalists in Mexico advocated a plan to attack centralist troops in Matamoros. Members of the General Council, the interim Texas governing body, were enamored with the idea of a Matamoros Expedition. They hoped it would inspire other federalist states to revolt and keep the bored Texian troops from deserting the army. Most importantly, it would move the war zone outside Texas. The Council officially approved the plan on December 25, and on December 30 Frank W. Johnson, the commander of the volunteer army, and his aide James Grant took the bulk of the army and almost all of the supplies to Goliad to prepare for the expedition. Determined to quash the rebellion, Santa Anna began assembling a large force to restore order; by the end of 1835, his army numbered 6,019 soldiers. In late December, at his behest, Congress passed the Tornel Decree, declaring that any foreigners fighting against Mexican troops \"will be deemed pirates and dealt with as such, being citizens of no nation presently at war with the Republic and fighting under no recognized flag\". In the early nineteenth century, captured pirates were executed immediately. The resolution thus gave the Mexican Army permission to take no prisoners in the war against the Texians. Santa Anna personally led the bulk of his troops inland to San Antonio de Béxar and ordered General José de Urrea to lead 550 troops along the Atascocita Road toward Goliad. Urrea\\'s efforts to quell the rebellion along the Texas Gulf Coast have become known as the Goliad Campaign.'\n",
    "text = text"
   ]
  },
  {
   "cell_type": "code",
   "execution_count": 52,
   "metadata": {},
   "outputs": [
    {
     "data": {
      "text/plain": [
       "2511"
      ]
     },
     "execution_count": 52,
     "metadata": {},
     "output_type": "execute_result"
    }
   ],
   "source": [
    "len(text)"
   ]
  },
  {
   "cell_type": "code",
   "execution_count": 53,
   "metadata": {},
   "outputs": [],
   "source": [
    "# Tokenized input\n",
    "tokenized_text = tokenizer.tokenize(text)\n",
    "\n",
    "# Convert token to vocabulary indices\n",
    "indexed_tokens = tokenizer.convert_tokens_to_ids(tokenized_text)\n",
    "\n",
    "# Convert inputs to PyTorch tensors\n",
    "tokens_tensor = torch.tensor([indexed_tokens])"
   ]
  },
  {
   "cell_type": "code",
   "execution_count": 58,
   "metadata": {},
   "outputs": [
    {
     "data": {
      "text/plain": [
       "508"
      ]
     },
     "execution_count": 58,
     "metadata": {},
     "output_type": "execute_result"
    }
   ],
   "source": [
    "len(tokenized_text)"
   ]
  },
  {
   "cell_type": "code",
   "execution_count": 56,
   "metadata": {},
   "outputs": [
    {
     "data": {
      "text/plain": [
       "64"
      ]
     },
     "execution_count": 56,
     "metadata": {},
     "output_type": "execute_result"
    }
   ],
   "source": [
    "len(set(text))"
   ]
  },
  {
   "cell_type": "code",
   "execution_count": 55,
   "metadata": {},
   "outputs": [
    {
     "data": {
      "text/plain": [
       "508"
      ]
     },
     "execution_count": 55,
     "metadata": {},
     "output_type": "execute_result"
    }
   ],
   "source": [
    "len(indexed_tokens)"
   ]
  },
  {
   "cell_type": "code",
   "execution_count": 24,
   "metadata": {},
   "outputs": [],
   "source": [
    "# Put data on GPU\n",
    "tokens_tensor = tokens_tensor.to('cuda')"
   ]
  },
  {
   "cell_type": "code",
   "execution_count": 25,
   "metadata": {},
   "outputs": [],
   "source": [
    "# Predict hidden states features for each layer\n",
    "with torch.no_grad():\n",
    "    encoded_layers, _ = model(tokens_tensor)\n",
    "# We have a hidden states for each of the 12 layers in model bert-base-uncased"
   ]
  },
  {
   "cell_type": "code",
   "execution_count": 26,
   "metadata": {},
   "outputs": [
    {
     "data": {
      "text/plain": [
       "12"
      ]
     },
     "execution_count": 26,
     "metadata": {},
     "output_type": "execute_result"
    }
   ],
   "source": [
    "len(encoded_layers)"
   ]
  },
  {
   "cell_type": "code",
   "execution_count": 29,
   "metadata": {},
   "outputs": [
    {
     "data": {
      "text/plain": [
       "torch.Size([1, 508, 768])"
      ]
     },
     "execution_count": 29,
     "metadata": {},
     "output_type": "execute_result"
    }
   ],
   "source": [
    "encoded_layers[0].shape"
   ]
  },
  {
   "cell_type": "code",
   "execution_count": 30,
   "metadata": {},
   "outputs": [
    {
     "data": {
      "text/plain": [
       "tensor([[ 0.0103,  0.5248, -0.2999,  ...,  0.3151,  0.0445,  0.1972],\n",
       "        [ 0.1347,  0.5342, -1.7163,  ..., -0.5347,  0.2544,  0.0442],\n",
       "        [-0.3892, -0.3067, -0.7275,  ..., -0.2215,  0.8551, -0.2032],\n",
       "        ...,\n",
       "        [-0.4019,  0.3912,  0.6176,  ..., -0.9811,  0.3358,  0.1371],\n",
       "        [ 0.5240,  1.4358, -1.8185,  ...,  0.9432, -0.0852,  0.7728],\n",
       "        [-0.7077,  0.7240,  0.0624,  ...,  0.0339, -0.1256,  0.1096]],\n",
       "       device='cuda:0')"
      ]
     },
     "execution_count": 30,
     "metadata": {},
     "output_type": "execute_result"
    }
   ],
   "source": [
    "encoded_layers[0][0]"
   ]
  },
  {
   "cell_type": "code",
   "execution_count": 27,
   "metadata": {},
   "outputs": [
    {
     "data": {
      "text/plain": [
       "torch.Size([1, 508, 768])"
      ]
     },
     "execution_count": 27,
     "metadata": {},
     "output_type": "execute_result"
    }
   ],
   "source": [
    "encoded_layers[-1].shape"
   ]
  }
 ],
 "metadata": {
  "kernelspec": {
   "display_name": "Python 3",
   "language": "python",
   "name": "python3"
  },
  "language_info": {
   "codemirror_mode": {
    "name": "ipython",
    "version": 3
   },
   "file_extension": ".py",
   "mimetype": "text/x-python",
   "name": "python",
   "nbconvert_exporter": "python",
   "pygments_lexer": "ipython3",
   "version": "3.6.7"
  }
 },
 "nbformat": 4,
 "nbformat_minor": 2
}
