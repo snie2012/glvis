{
 "cells": [
  {
   "cell_type": "code",
   "execution_count": 1,
   "metadata": {},
   "outputs": [],
   "source": [
    "from pymongo import MongoClient\n",
    "\n",
    "client = MongoClient()\n",
    "\n",
    "db = client['glvis_db']\n",
    "val_collection = db['flattened']"
   ]
  },
  {
   "cell_type": "code",
   "execution_count": 8,
   "metadata": {},
   "outputs": [
    {
     "data": {
      "text/plain": [
       "dict_keys(['_id', 'sentence', 'val', 'sentiment', 'confidence'])"
      ]
     },
     "execution_count": 8,
     "metadata": {},
     "output_type": "execute_result"
    }
   ],
   "source": [
    "entry.keys()"
   ]
  },
  {
   "cell_type": "code",
   "execution_count": 13,
   "metadata": {},
   "outputs": [],
   "source": [
    "for entry in val_collection.find():\n",
    "    entry['prediction'] = [entry['confidence'], 0] if entry['sentiment'] == 'POSITIVE' else [0, entry['confidence']]\n",
    "    entry.pop('_id')\n",
    "    db['flair_sentiment'].insert_one(entry)"
   ]
  },
  {
   "cell_type": "code",
   "execution_count": 16,
   "metadata": {},
   "outputs": [],
   "source": [
    "db['backup (records)'].drop()"
   ]
  },
  {
   "cell_type": "code",
   "execution_count": 2,
   "metadata": {},
   "outputs": [],
   "source": [
    "cur = val_collection.find()"
   ]
  },
  {
   "cell_type": "code",
   "execution_count": 65,
   "metadata": {},
   "outputs": [],
   "source": [
    "def clean_text(sentence):\n",
    "    # Remove HTML tags\n",
    "    tags = re.compile('<.*?>')\n",
    "    removed = re.sub(tags, '', sentence)\n",
    "\n",
    "    # Remove digits\n",
    "    digits = re.compile('\\d+')\n",
    "    removed = re.sub(digits, '', removed)\n",
    "\n",
    "    # Remove punctuations\n",
    "    translator = str.maketrans('', '', string.punctuation)\n",
    "    translated = removed.translate(translator)\n",
    "\n",
    "    # Turn string to lower case and split into words\n",
    "    wordlist = translated.strip().lower().split(' ')\n",
    "\n",
    "    # Remove stop words\n",
    "    return list(filter(lambda w: w and w not in set(stopwords.words('english')), wordlist))"
   ]
  },
  {
   "cell_type": "code",
   "execution_count": 69,
   "metadata": {},
   "outputs": [
    {
     "data": {
      "text/plain": [
       "['elviracassandra',\n",
       " 'peterson',\n",
       " 'host',\n",
       " 'cheap',\n",
       " 'horror',\n",
       " 'show',\n",
       " 'finds',\n",
       " 'dead',\n",
       " 'aunt',\n",
       " 'left',\n",
       " 'stuff',\n",
       " 'elvira',\n",
       " 'goes',\n",
       " 'england',\n",
       " 'pick',\n",
       " 'hoping',\n",
       " 'money',\n",
       " 'horror',\n",
       " 'elvira',\n",
       " 'finds',\n",
       " 'aunt',\n",
       " 'left',\n",
       " 'house',\n",
       " 'dog',\n",
       " 'cookbook',\n",
       " 'elvira',\n",
       " 'decides',\n",
       " 'settle',\n",
       " 'house',\n",
       " 'anyways',\n",
       " 'striking',\n",
       " 'dark',\n",
       " 'looks',\n",
       " 'stunning',\n",
       " 'features',\n",
       " 'able',\n",
       " 'live',\n",
       " 'peace',\n",
       " 'neighbours',\n",
       " 'turning',\n",
       " 'whole',\n",
       " 'town',\n",
       " 'elviras',\n",
       " 'outrageous',\n",
       " 'attitude',\n",
       " 'looks',\n",
       " 'everyone',\n",
       " 'better',\n",
       " 'watch',\n",
       " 'elvira',\n",
       " 'fire',\n",
       " 'really',\n",
       " 'enjoyed',\n",
       " 'movie',\n",
       " 'really',\n",
       " 'fun',\n",
       " 'watch',\n",
       " 'get',\n",
       " 'elvira',\n",
       " 'adventures',\n",
       " 'shes',\n",
       " 'great',\n",
       " 'whole',\n",
       " 'movie',\n",
       " 'puts',\n",
       " 'halloween',\n",
       " 'mood',\n",
       " 'sure',\n",
       " 'silly',\n",
       " 'jokes',\n",
       " 'cheap',\n",
       " 'pleasure',\n",
       " 'watch',\n",
       " 'would',\n",
       " 'give',\n",
       " 'elvira',\n",
       " 'mistress',\n",
       " 'dark']"
      ]
     },
     "execution_count": 69,
     "metadata": {},
     "output_type": "execute_result"
    }
   ],
   "source": [
    "clean_text(cur.next()['sentence'])"
   ]
  },
  {
   "cell_type": "code",
   "execution_count": 72,
   "metadata": {},
   "outputs": [
    {
     "data": {
      "text/plain": [
       "{'a', 'b'}"
      ]
     },
     "execution_count": 72,
     "metadata": {},
     "output_type": "execute_result"
    }
   ],
   "source": [
    "set('a') | set('b')"
   ]
  },
  {
   "cell_type": "code",
   "execution_count": 6,
   "metadata": {},
   "outputs": [],
   "source": [
    "t = cur.next()"
   ]
  },
  {
   "cell_type": "code",
   "execution_count": 14,
   "metadata": {},
   "outputs": [],
   "source": [
    "s = t['sentence']"
   ]
  },
  {
   "cell_type": "code",
   "execution_count": 8,
   "metadata": {},
   "outputs": [],
   "source": [
    "import re"
   ]
  },
  {
   "cell_type": "code",
   "execution_count": 10,
   "metadata": {},
   "outputs": [],
   "source": [
    "cleanzer = re.compile('<.*?>')"
   ]
  },
  {
   "cell_type": "code",
   "execution_count": 11,
   "metadata": {},
   "outputs": [],
   "source": [
    "cleantext = re.sub(cleanzer, '', t['sentence'])"
   ]
  },
  {
   "cell_type": "code",
   "execution_count": 18,
   "metadata": {},
   "outputs": [],
   "source": [
    "import string\n",
    "cleantext = cleantext.translate(string.punctuation)"
   ]
  },
  {
   "cell_type": "code",
   "execution_count": 26,
   "metadata": {},
   "outputs": [],
   "source": [
    "translator = str.maketrans('', '', string.punctuation)"
   ]
  },
  {
   "cell_type": "code",
   "execution_count": 39,
   "metadata": {},
   "outputs": [
    {
     "data": {
      "text/plain": [
       "[12, 3]"
      ]
     },
     "execution_count": 39,
     "metadata": {},
     "output_type": "execute_result"
    }
   ],
   "source": [
    "list(map(lambda x: x, [12, 3]))"
   ]
  },
  {
   "cell_type": "code",
   "execution_count": 58,
   "metadata": {},
   "outputs": [],
   "source": [
    "txt = cleantext.translate(translator).lower().strip().split(' ')"
   ]
  },
  {
   "cell_type": "code",
   "execution_count": 59,
   "metadata": {},
   "outputs": [
    {
     "data": {
      "text/plain": [
       "['paulie',\n",
       " 'is',\n",
       " 'a',\n",
       " 'fantasy',\n",
       " 'of',\n",
       " 'a',\n",
       " 'littler',\n",
       " 'girl',\n",
       " 'or',\n",
       " 'perhaps',\n",
       " 'her',\n",
       " 'recollection',\n",
       " 'of',\n",
       " 'what',\n",
       " 'her',\n",
       " 'youth',\n",
       " 'was',\n",
       " 'like',\n",
       " 'growing',\n",
       " 'uptony',\n",
       " 'shaloub',\n",
       " 'executes',\n",
       " 'a',\n",
       " 'flawless',\n",
       " 'performance',\n",
       " 'as',\n",
       " 'an',\n",
       " 'russian',\n",
       " 'scientist',\n",
       " 'phd',\n",
       " 'who',\n",
       " 'cannot',\n",
       " 'find',\n",
       " 'decent',\n",
       " 'work',\n",
       " 'in',\n",
       " 'america',\n",
       " 'he',\n",
       " 'befriends',\n",
       " 'an',\n",
       " 'isolated',\n",
       " 'parrot',\n",
       " 'while',\n",
       " 'performing',\n",
       " 'meanial',\n",
       " 'duties',\n",
       " 'of',\n",
       " 'a',\n",
       " 'janitor',\n",
       " 'at',\n",
       " 'a',\n",
       " 'behavioral',\n",
       " 'science',\n",
       " 'labthe',\n",
       " 'chief',\n",
       " 'doctor',\n",
       " 'is',\n",
       " 'a',\n",
       " 'bitter',\n",
       " 'man',\n",
       " 'as',\n",
       " 'paulie',\n",
       " 'who',\n",
       " 'can',\n",
       " 'speak',\n",
       " 'and',\n",
       " 'fully',\n",
       " 'comprehend',\n",
       " 'language',\n",
       " 'and',\n",
       " 'learn',\n",
       " 'embarasses',\n",
       " 'the',\n",
       " 'doctor',\n",
       " 'who',\n",
       " 'later',\n",
       " 'banishses',\n",
       " 'him',\n",
       " 'to',\n",
       " 'the',\n",
       " 'lower',\n",
       " 'levels',\n",
       " 'of',\n",
       " 'the',\n",
       " 'building',\n",
       " 'where',\n",
       " 'mikail',\n",
       " 'tony',\n",
       " 's',\n",
       " 'finds',\n",
       " 'himpaulie',\n",
       " 'recants',\n",
       " 'his',\n",
       " 'life',\n",
       " 'with',\n",
       " 'marie',\n",
       " 'and',\n",
       " 'how',\n",
       " 'they',\n",
       " 'lost',\n",
       " 'each',\n",
       " 'other',\n",
       " 'the',\n",
       " 'quest',\n",
       " 'begins',\n",
       " 'to',\n",
       " 'reunite',\n",
       " 'paulie',\n",
       " 'with',\n",
       " 'marie',\n",
       " 'only',\n",
       " 'more',\n",
       " 'than',\n",
       " '20',\n",
       " 'years',\n",
       " 'has',\n",
       " 'passedthe',\n",
       " 'movie',\n",
       " 'ends',\n",
       " 'some',\n",
       " 'will',\n",
       " 'say',\n",
       " 'predictably',\n",
       " 'with',\n",
       " 'mikail',\n",
       " 'reuniting',\n",
       " 'paulie',\n",
       " 'with',\n",
       " 'marie',\n",
       " 'the',\n",
       " 'story',\n",
       " 'closes',\n",
       " 'with',\n",
       " 'the',\n",
       " 'three',\n",
       " 'entering',\n",
       " 'maries',\n",
       " 'home',\n",
       " 'where',\n",
       " 'you',\n",
       " 'can',\n",
       " 'make',\n",
       " 'the',\n",
       " 'final',\n",
       " 'your',\n",
       " 'own',\n",
       " 'choicegreat',\n",
       " 'family',\n",
       " 'film']"
      ]
     },
     "execution_count": 59,
     "metadata": {},
     "output_type": "execute_result"
    }
   ],
   "source": [
    "txt"
   ]
  },
  {
   "cell_type": "code",
   "execution_count": 42,
   "metadata": {},
   "outputs": [],
   "source": [
    "import nltk"
   ]
  },
  {
   "cell_type": "code",
   "execution_count": 43,
   "metadata": {},
   "outputs": [],
   "source": [
    "from nltk.corpus import stopwords"
   ]
  },
  {
   "cell_type": "code",
   "execution_count": 51,
   "metadata": {},
   "outputs": [
    {
     "name": "stderr",
     "output_type": "stream",
     "text": [
      "[nltk_data] Downloading package stopwords to /home/snie/nltk_data...\n",
      "[nltk_data]   Unzipping corpora/stopwords.zip.\n"
     ]
    },
    {
     "data": {
      "text/plain": [
       "True"
      ]
     },
     "execution_count": 51,
     "metadata": {},
     "output_type": "execute_result"
    }
   ],
   "source": [
    "nltk.download('stopwords')"
   ]
  },
  {
   "cell_type": "code",
   "execution_count": 62,
   "metadata": {},
   "outputs": [
    {
     "data": {
      "text/plain": [
       "['paulie',\n",
       " 'fantasy',\n",
       " 'littler',\n",
       " 'girl',\n",
       " 'perhaps',\n",
       " 'recollection',\n",
       " 'youth',\n",
       " 'like',\n",
       " 'growing',\n",
       " 'uptony',\n",
       " 'shaloub',\n",
       " 'executes',\n",
       " 'flawless',\n",
       " 'performance',\n",
       " 'russian',\n",
       " 'scientist',\n",
       " 'phd',\n",
       " 'cannot',\n",
       " 'find',\n",
       " 'decent',\n",
       " 'work',\n",
       " 'america',\n",
       " 'befriends',\n",
       " 'isolated',\n",
       " 'parrot',\n",
       " 'performing',\n",
       " 'meanial',\n",
       " 'duties',\n",
       " 'janitor',\n",
       " 'behavioral',\n",
       " 'science',\n",
       " 'labthe',\n",
       " 'chief',\n",
       " 'doctor',\n",
       " 'bitter',\n",
       " 'man',\n",
       " 'paulie',\n",
       " 'speak',\n",
       " 'fully',\n",
       " 'comprehend',\n",
       " 'language',\n",
       " 'learn',\n",
       " 'embarasses',\n",
       " 'doctor',\n",
       " 'later',\n",
       " 'banishses',\n",
       " 'lower',\n",
       " 'levels',\n",
       " 'building',\n",
       " 'mikail',\n",
       " 'tony',\n",
       " 'finds',\n",
       " 'himpaulie',\n",
       " 'recants',\n",
       " 'life',\n",
       " 'marie',\n",
       " 'lost',\n",
       " 'quest',\n",
       " 'begins',\n",
       " 'reunite',\n",
       " 'paulie',\n",
       " 'marie',\n",
       " '20',\n",
       " 'years',\n",
       " 'passedthe',\n",
       " 'movie',\n",
       " 'ends',\n",
       " 'say',\n",
       " 'predictably',\n",
       " 'mikail',\n",
       " 'reuniting',\n",
       " 'paulie',\n",
       " 'marie',\n",
       " 'story',\n",
       " 'closes',\n",
       " 'three',\n",
       " 'entering',\n",
       " 'maries',\n",
       " 'home',\n",
       " 'make',\n",
       " 'final',\n",
       " 'choicegreat',\n",
       " 'family',\n",
       " 'film']"
      ]
     },
     "execution_count": 62,
     "metadata": {},
     "output_type": "execute_result"
    }
   ],
   "source": [
    "list(filter(lambda w: w not in set(stopwords.words('english')), txt))"
   ]
  }
 ],
 "metadata": {
  "kernelspec": {
   "display_name": "Python 3",
   "language": "python",
   "name": "python3"
  },
  "language_info": {
   "codemirror_mode": {
    "name": "ipython",
    "version": 3
   },
   "file_extension": ".py",
   "mimetype": "text/x-python",
   "name": "python",
   "nbconvert_exporter": "python",
   "pygments_lexer": "ipython3",
   "version": "3.6.7"
  }
 },
 "nbformat": 4,
 "nbformat_minor": 2
}
