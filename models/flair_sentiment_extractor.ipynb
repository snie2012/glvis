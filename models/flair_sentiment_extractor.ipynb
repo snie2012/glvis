{
 "cells": [
  {
   "cell_type": "markdown",
   "metadata": {},
   "source": [
    "# Imports"
   ]
  },
  {
   "cell_type": "code",
   "execution_count": null,
   "metadata": {},
   "outputs": [],
   "source": [
    "from flair.data import Sentence\n",
    "from flair.models import SequenceTagger\n",
    "from flair.models import TextClassifier\n",
    "\n",
    "from flair.data import TaggedCorpus\n",
    "from flair.data_fetcher import  NLPTaskDataFetcher, NLPTask\n",
    "\n",
    "import torch"
   ]
  },
  {
   "cell_type": "code",
   "execution_count": null,
   "metadata": {},
   "outputs": [],
   "source": [
    "from pymongo import MongoClient\n",
    "\n",
    "client = MongoClient()\n",
    "\n",
    "db = client['glvis_db']"
   ]
  },
  {
   "cell_type": "markdown",
   "metadata": {},
   "source": [
    "# Extract hidden states from pretrained en-sentiment model"
   ]
  },
  {
   "cell_type": "code",
   "execution_count": null,
   "metadata": {},
   "outputs": [],
   "source": [
    "train_pos = os.listdir('data/aclImdb_v1/aclImdb/train/pos/')\n",
    "train_neg = os.listdir('data/aclImdb_v1/aclImdb/train/neg/')\n",
    "test_pos = os.listdir('data/aclImdb_v1/aclImdb/test/pos/')\n",
    "test_neg = os.listdir('data/aclImdb_v1/aclImdb/test/neg/')"
   ]
  },
  {
   "cell_type": "code",
   "execution_count": null,
   "metadata": {},
   "outputs": [],
   "source": [
    "pos_data = []\n",
    "for name in train_pos:\n",
    "    with open('data/aclImdb_v1/aclImdb/train/pos/' + name, 'r') as f:\n",
    "        pos_data.append(f.readline())\n",
    "for name in test_pos:\n",
    "    with open('data/aclImdb_v1/aclImdb/test/pos/' + name, 'r') as f:\n",
    "        pos_data.append(f.readline())"
   ]
  },
  {
   "cell_type": "code",
   "execution_count": null,
   "metadata": {},
   "outputs": [],
   "source": [
    "neg_data = []\n",
    "for name in train_neg:\n",
    "    with open('data/aclImdb_v1/aclImdb/train/neg/' + name, 'r') as f:\n",
    "        neg_data.append(f.readline())\n",
    "for name in test_neg:\n",
    "    with open('data/aclImdb_v1/aclImdb/test/neg/' + name, 'r') as f:\n",
    "        neg_data.append(f.readline())"
   ]
  },
  {
   "cell_type": "markdown",
   "metadata": {},
   "source": [
    "### Load model"
   ]
  },
  {
   "cell_type": "code",
   "execution_count": null,
   "metadata": {},
   "outputs": [],
   "source": [
    "sent_model = TextClassifier.load('en-sentiment')"
   ]
  },
  {
   "cell_type": "code",
   "execution_count": null,
   "metadata": {},
   "outputs": [],
   "source": [
    "# Set batch size\n",
    "batch_size = 64"
   ]
  },
  {
   "cell_type": "code",
   "execution_count": null,
   "metadata": {},
   "outputs": [],
   "source": [
    "# Define hook to get intermediate values\n",
    "records = torch.zeros(batch_size, 2048)\n",
    "\n",
    "def hook(m, i, o):\n",
    "    print(i[0].data.shape)\n",
    "    records.copy_(i[0].data)"
   ]
  },
  {
   "cell_type": "code",
   "execution_count": null,
   "metadata": {},
   "outputs": [],
   "source": [
    "# Add the hook to model\n",
    "h = sent_model.decoder.register_forward_hook(hook)"
   ]
  },
  {
   "cell_type": "code",
   "execution_count": null,
   "metadata": {},
   "outputs": [],
   "source": [
    "len(pos_data) / batch_size"
   ]
  },
  {
   "cell_type": "code",
   "execution_count": null,
   "metadata": {},
   "outputs": [],
   "source": [
    "for i in range(len(neg_data) // batch_size):\n",
    "    sentences = [Sentence(s) for s in neg_data[batch_size * i: batch_size * (i+1)]]\n",
    "    sent_model.predict(sentences, mini_batch_size=batch_size)\n",
    "    labels = [sen.labels[0].to_dict() for sen in sentences]\n",
    "    \n",
    "    val_list = records.tolist()\n",
    "    \n",
    "    db_entries = [{\n",
    "        'sentence': neg_data[batch_size * i + ix],\n",
    "        'reduce_mean': val_list[ix],\n",
    "        'label': labels[ix]\n",
    "    } for ix in range(len(sentences))]\n",
    "    \n",
    "    val_collection.insert_many(db_entries)"
   ]
  }
 ],
 "metadata": {
  "kernelspec": {
   "display_name": "Python 3",
   "language": "python",
   "name": "python3"
  },
  "language_info": {
   "codemirror_mode": {
    "name": "ipython",
    "version": 3
   },
   "file_extension": ".py",
   "mimetype": "text/x-python",
   "name": "python",
   "nbconvert_exporter": "python",
   "pygments_lexer": "ipython3",
   "version": "3.6.7"
  }
 },
 "nbformat": 4,
 "nbformat_minor": 2
}
