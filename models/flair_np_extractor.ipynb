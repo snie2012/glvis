{
 "cells": [
  {
   "cell_type": "markdown",
   "metadata": {},
   "source": [
    "# Extract hidden representations from flair's pretrained Chunking model"
   ]
  },
  {
   "cell_type": "code",
   "execution_count": 6,
   "metadata": {},
   "outputs": [],
   "source": [
    "from flair.data import Sentence\n",
    "from flair.models import SequenceTagger\n",
    "from flair.models import TextClassifier\n",
    "\n",
    "from flair.data import TaggedCorpus\n",
    "from flair.data_fetcher import  NLPTaskDataFetcher, NLPTask\n",
    "import torch"
   ]
  },
  {
   "cell_type": "code",
   "execution_count": 1,
   "metadata": {},
   "outputs": [],
   "source": [
    "from pymongo import MongoClient\n",
    "\n",
    "client = MongoClient()\n",
    "\n",
    "db = client['glvis_db']"
   ]
  },
  {
   "cell_type": "markdown",
   "metadata": {},
   "source": [
    "# Extract hidden representations from flair's pretrained Chunking model"
   ]
  },
  {
   "cell_type": "code",
   "execution_count": null,
   "metadata": {},
   "outputs": [],
   "source": [
    "chunk_tagger = SequenceTagger.load('chunk')"
   ]
  },
  {
   "cell_type": "code",
   "execution_count": null,
   "metadata": {},
   "outputs": [],
   "source": [
    "chunk_tagger"
   ]
  },
  {
   "cell_type": "code",
   "execution_count": null,
   "metadata": {},
   "outputs": [],
   "source": [
    "corpus: TaggedCorpus = NLPTaskDataFetcher.load_corpus(NLPTask.CONLL_2000)"
   ]
  },
  {
   "cell_type": "code",
   "execution_count": null,
   "metadata": {},
   "outputs": [],
   "source": [
    "tag_type = 'np'\n",
    "tag_dictionary = corpus.make_tag_dictionary(tag_type=tag_type)"
   ]
  },
  {
   "cell_type": "code",
   "execution_count": null,
   "metadata": {},
   "outputs": [],
   "source": [
    "len(corpus.get_all_sentences())"
   ]
  },
  {
   "cell_type": "markdown",
   "metadata": {},
   "source": [
    "### First linear layer (the layer after embedding)"
   ]
  },
  {
   "cell_type": "code",
   "execution_count": null,
   "metadata": {},
   "outputs": [],
   "source": [
    "db_col = db['flair_chunk_embedding2nn']"
   ]
  },
  {
   "cell_type": "code",
   "execution_count": null,
   "metadata": {},
   "outputs": [],
   "source": [
    "db_col.drop()"
   ]
  },
  {
   "cell_type": "code",
   "execution_count": null,
   "metadata": {},
   "outputs": [],
   "source": [
    "for i, sentence in enumerate(corpus.get_all_sentences()):\n",
    "    print(f'Start sentence {i}')\n",
    "    \n",
    "    # Define hook to get intermediate values\n",
    "    hidden_states = torch.zeros(len(sentence), 1, 4096)\n",
    "    def hook(m, i):\n",
    "        hidden_states.copy_(i[0].data)\n",
    "                                \n",
    "    h = chunk_tagger.embedding2nn.register_forward_pre_hook(hook)\n",
    "                                \n",
    "    chunk_tagger.predict(sentence)\n",
    "                                \n",
    "    spans = sentence.get_spans('np')\n",
    "                                \n",
    "    # Informaction to store: the named entities, their predicted labels, probabilities and hidden states\n",
    "    # If there are multiple words for one entity, take the average value of hidden states\n",
    "    # and record the number of words in the entity\n",
    "    \n",
    "    for span in spans:\n",
    "        entry = {}\n",
    "        entry['text'] = span.text\n",
    "        entry['tag'] = span.tag\n",
    "        entry['score'] = span.score\n",
    "        entry['token_num'] = len(span.tokens)\n",
    "        \n",
    "        idx = [token.idx-1 for token in span.tokens]\n",
    "        entry['embedding2nn'] = hidden_states[idx, :, :].mean(dim=0).squeeze().tolist()\n",
    "        \n",
    "        db_col.insert_one(entry)\n",
    "    \n",
    "    h.remove()\n",
    "    \n",
    "    print(f'Finish sentence {i}')"
   ]
  },
  {
   "cell_type": "markdown",
   "metadata": {},
   "source": [
    "# Last linear layer"
   ]
  },
  {
   "cell_type": "code",
   "execution_count": null,
   "metadata": {},
   "outputs": [],
   "source": [
    "db_col = db['flair_chunk_linear']"
   ]
  },
  {
   "cell_type": "code",
   "execution_count": null,
   "metadata": {},
   "outputs": [],
   "source": [
    "db_col.drop()"
   ]
  },
  {
   "cell_type": "code",
   "execution_count": null,
   "metadata": {},
   "outputs": [],
   "source": [
    "for i, sentence in enumerate(corpus.get_all_sentences()):\n",
    "    print(f'Start sentence {i}')\n",
    "    \n",
    "    # Define hook to get intermediate values\n",
    "    hidden_states = torch.zeros(len(sentence), 1, 512)\n",
    "    def hook(m, i):\n",
    "        hidden_states.copy_(i[0].data)\n",
    "                                \n",
    "    h = chunk_tagger.linear.register_forward_pre_hook(hook)\n",
    "                                \n",
    "    chunk_tagger.predict(sentence)\n",
    "                                \n",
    "    spans = sentence.get_spans('np')\n",
    "                                \n",
    "    # Informaction to store: the named entities, their predicted labels, probabilities and hidden states\n",
    "    # If there are multiple words for one entity, take the average value of hidden states\n",
    "    # and record the number of words in the entity\n",
    "    \n",
    "    for span in spans:\n",
    "        entry = {}\n",
    "        entry['text'] = span.text\n",
    "        entry['tag'] = span.tag\n",
    "        entry['score'] = span.score\n",
    "        entry['token_num'] = len(span.tokens)\n",
    "        \n",
    "        idx = [token.idx-1 for token in span.tokens]\n",
    "        entry['linear_layer_state'] = hidden_states[idx, :, :].mean(dim=0).squeeze().tolist()\n",
    "        \n",
    "        db_col.insert_one(entry)\n",
    "    \n",
    "    h.remove()\n",
    "    \n",
    "    print(f'Finish sentence {i}')"
   ]
  }
 ],
 "metadata": {
  "kernelspec": {
   "display_name": "Python 3",
   "language": "python",
   "name": "python3"
  },
  "language_info": {
   "codemirror_mode": {
    "name": "ipython",
    "version": 3
   },
   "file_extension": ".py",
   "mimetype": "text/x-python",
   "name": "python",
   "nbconvert_exporter": "python",
   "pygments_lexer": "ipython3",
   "version": "3.6.7"
  }
 },
 "nbformat": 4,
 "nbformat_minor": 2
}
