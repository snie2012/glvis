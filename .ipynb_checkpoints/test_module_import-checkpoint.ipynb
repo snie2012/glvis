{
 "cells": [
  {
   "cell_type": "code",
   "execution_count": 1,
   "metadata": {},
   "outputs": [
    {
     "name": "stderr",
     "output_type": "stream",
     "text": [
      "/home/snie/anaconda3/envs/glvis/lib/python3.6/site-packages/umap/umap_.py:1364: UserWarning: n_neighbors is larger than the dataset size; truncating to X.shape[0] - 1\n",
      "  \"n_neighbors is larger than the dataset size; truncating to \"\n"
     ]
    }
   ],
   "source": [
    "%load_ext autoreload\n",
    "%autoreload 2\n",
    "\n",
    "import umap\n",
    "\n",
    "from sklearn.datasets import load_digits\n",
    "\n",
    "digits = load_digits()\n",
    "\n",
    "digits.data\n",
    "\n",
    "embedding = umap.UMAP().fit_transform(digits.data[:10])"
   ]
  },
  {
   "cell_type": "code",
   "execution_count": 2,
   "metadata": {},
   "outputs": [
    {
     "data": {
      "text/plain": [
       "array([[-0.80224764, -8.815325  ],\n",
       "       [-2.668794  , -9.410954  ],\n",
       "       [-2.399872  , -8.474705  ],\n",
       "       [-1.7013903 , -7.2047224 ],\n",
       "       [-1.5264115 , -9.823318  ],\n",
       "       [-0.97674966, -7.4601    ],\n",
       "       [-1.679502  , -9.1293335 ],\n",
       "       [-3.0700946 , -8.624621  ],\n",
       "       [-1.802069  , -7.9215555 ],\n",
       "       [-1.0228491 , -8.10354   ]], dtype=float32)"
      ]
     },
     "execution_count": 2,
     "metadata": {},
     "output_type": "execute_result"
    }
   ],
   "source": [
    "embedding"
   ]
  }
 ],
 "metadata": {
  "kernelspec": {
   "display_name": "Python 3",
   "language": "python",
   "name": "python3"
  },
  "language_info": {
   "codemirror_mode": {
    "name": "ipython",
    "version": 3
   },
   "file_extension": ".py",
   "mimetype": "text/x-python",
   "name": "python",
   "nbconvert_exporter": "python",
   "pygments_lexer": "ipython3",
   "version": "3.6.7"
  }
 },
 "nbformat": 4,
 "nbformat_minor": 2
}
